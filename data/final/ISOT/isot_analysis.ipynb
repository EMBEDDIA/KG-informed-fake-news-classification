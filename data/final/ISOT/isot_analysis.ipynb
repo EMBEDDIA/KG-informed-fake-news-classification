{
 "cells": [
  {
   "cell_type": "code",
   "execution_count": 25,
   "id": "norman-gossip",
   "metadata": {},
   "outputs": [],
   "source": [
    "import pandas as pd\n",
    "splits = ['train.csv', 'dev.csv', 'test.csv']"
   ]
  },
  {
   "cell_type": "code",
   "execution_count": 30,
   "id": "unnecessary-earthquake",
   "metadata": {},
   "outputs": [],
   "source": [
    "texts = []"
   ]
  },
  {
   "cell_type": "code",
   "execution_count": 34,
   "id": "union-ivory",
   "metadata": {},
   "outputs": [
    {
     "name": "stdout",
     "output_type": "stream",
     "text": [
      "train.csv 29328 15932 0.5432351336606656 13396 0.45676486633933444\n",
      "dev.csv 7332 3976 0.5422804146208402 3356 0.4577195853791598\n",
      "test.csv 2445 1289 0.52719836400818 1156 0.47280163599182\n"
     ]
    }
   ],
   "source": [
    "for split in splits:\n",
    "    df = pd.read_csv(split)\n",
    "    total = len(df)\n",
    "    texts = texts + df['text_a'].to_list()\n",
    "    #ids = ids + df['Unnamed: 0'].to_list()\n",
    "    real = sum(df.label.to_list())\n",
    "    print(split,total, real, real/total, total - real, 1 - real/total)"
   ]
  }
 ],
 "metadata": {
  "kernelspec": {
   "display_name": "Python 3",
   "language": "python",
   "name": "python3"
  },
  "language_info": {
   "codemirror_mode": {
    "name": "ipython",
    "version": 3
   },
   "file_extension": ".py",
   "mimetype": "text/x-python",
   "name": "python",
   "nbconvert_exporter": "python",
   "pygments_lexer": "ipython3",
   "version": "3.7.7"
  }
 },
 "nbformat": 4,
 "nbformat_minor": 5
}
