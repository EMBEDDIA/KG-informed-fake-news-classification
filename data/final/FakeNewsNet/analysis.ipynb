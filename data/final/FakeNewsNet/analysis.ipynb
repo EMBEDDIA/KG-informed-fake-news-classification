{
 "cells": [
  {
   "cell_type": "code",
   "execution_count": 1,
   "id": "enormous-compiler",
   "metadata": {},
   "outputs": [],
   "source": [
    "import pandas as pd\n",
    "splits = ['train.csv', 'dev.csv', 'test.csv']\n",
    "#marks = {'fake' : 0, 'real' : 1} "
   ]
  },
  {
   "cell_type": "code",
   "execution_count": 2,
   "id": "musical-substance",
   "metadata": {},
   "outputs": [
    {
     "name": "stdout",
     "output_type": "stream",
     "text": [
      "train.csv 15212 7591 0.4990139363660268 7621 0.5009860636339731\n",
      "dev.csv 1058 540 0.5103969754253308 518 0.4896030245746692\n",
      "test.csv 1054 636 0.603415559772296 418 0.396584440227704\n"
     ]
    }
   ],
   "source": [
    "for split in splits:\n",
    "    df = pd.read_csv(split)\n",
    "    total = len(df)\n",
    "    real = sum(df.label.to_list())\n",
    "    print(split,total, real, real/total, total - real, 1 - real/total)"
   ]
  }
 ],
 "metadata": {
  "kernelspec": {
   "display_name": "Python 3",
   "language": "python",
   "name": "python3"
  },
  "language_info": {
   "codemirror_mode": {
    "name": "ipython",
    "version": 3
   },
   "file_extension": ".py",
   "mimetype": "text/x-python",
   "name": "python",
   "nbconvert_exporter": "python",
   "pygments_lexer": "ipython3",
   "version": "3.7.7"
  }
 },
 "nbformat": 4,
 "nbformat_minor": 5
}
