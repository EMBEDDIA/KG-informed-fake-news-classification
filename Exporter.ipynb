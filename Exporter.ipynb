{
 "cells": [
  {
   "cell_type": "code",
   "execution_count": 1,
   "id": "essential-rubber",
   "metadata": {},
   "outputs": [],
   "source": [
    "import san\n",
    "from src_end2end import statistical_features\n",
    "import lsa_features\n",
    "import pickle\n",
    "import numpy as np\n",
    "from tqdm import tqdm\n",
    "import pandas as pd\n",
    "import os\n",
    "import skopt\n",
    "from skopt import gp_minimize\n",
    "from sklearn import preprocessing\n",
    "from skopt.space import Real, Integer, Categorical\n",
    "from skopt.utils import use_named_args\n",
    "from sklearn.metrics import f1_score\n",
    "st_models = [\"roberta-large-nli-stsb-mean-tokens\", \"xlm-r-large-en-ko-nli-ststb\", \"distilbert-base-nli-mean-tokens\"]"
   ]
  },
  {
   "cell_type": "code",
   "execution_count": 2,
   "id": "listed-nigeria",
   "metadata": {},
   "outputs": [],
   "source": [
    "from sentence_transformers import SentenceTransformer\n",
    "st_models = [\"roberta-large-nli-stsb-mean-tokens\", \"xlm-r-large-en-ko-nli-ststb\", \"distilbert-base-nli-mean-tokens\"]\n",
    "def embedd_bert(text, st_model = 'paraphrase-distilroberta-base-v1', split = 'train'):    \n",
    "    paths = \"temp_berts/\"+st_model+\"_\"+split+'.pkl'\n",
    "    if os.path.isfile(paths):\n",
    "        sentence_embeddings = pickle.load(open(paths,'rb')) \n",
    "        return sentence_embeddings\n",
    "    model = SentenceTransformer(st_model)\n",
    "    sentence_embeddings = model.encode(text)\n",
    "    with open(paths, 'wb') as f:\n",
    "        pickle.dump(sentence_embeddings, f)\n",
    "    return sentence_embeddings"
   ]
  },
  {
   "cell_type": "code",
   "execution_count": 3,
   "id": "surprising-prompt",
   "metadata": {},
   "outputs": [],
   "source": [
    "from sentence_transformers import SentenceTransformer\n",
    "st_models = [\"roberta-large-nli-stsb-mean-tokens\", \"xlm-r-large-en-ko-nli-ststb\", \"distilbert-base-nli-mean-tokens\"]\n",
    "def embedd_bert2(text, st_model = 'paraphrase-distilroberta-base-v1'):    \n",
    "    text = [t[:512] for t in text]\n",
    "    model = SentenceTransformer(st_model)\n",
    "    sentence_embeddings = model.encode(text)\n",
    "    return sentence_embeddings"
   ]
  },
  {
   "cell_type": "code",
   "execution_count": 19,
   "id": "industrial-silver",
   "metadata": {},
   "outputs": [],
   "source": [
    "def export_kgs(dataset):\n",
    "    path = \"representations/\"+dataset+\"/\"\n",
    "    for split in [\"train\", \"dev\", \"test\"]:\n",
    "        for kg in [\"complex\", \"transe\", \"quate\", \"simple\", \"rotate\", \"distmult\"]:\n",
    "            path_tmp = path + split + \"/\" + kg + \".csv\"\n",
    "            tmp_kg = prep_kgs(kg, split)\n",
    "            tmp_kg = np.array((tmp_kg))\n",
    "            np.savetxt(path_tmp, tmp_kg, delimiter=\",\")\n",
    "        "
   ]
  },
  {
   "cell_type": "code",
   "execution_count": 18,
   "id": "placed-destination",
   "metadata": {},
   "outputs": [],
   "source": [
    "def prep_kgs(kg_emb, split='train'):\n",
    "    embs = []\n",
    "    global dataset\n",
    "    path_in = \"kg_emb_dump/\"+dataset+\"/\"+split+\"_\"+kg_emb+'_n.pkl'\n",
    "    with open(path_in, \"rb\") as f:\n",
    "        kgs_p = pickle.load(f)\n",
    "    for x,y in kgs_p:\n",
    "        embs.append(y)\n",
    "    return embs"
   ]
  },
  {
   "cell_type": "code",
   "execution_count": 5,
   "id": "british-advocate",
   "metadata": {},
   "outputs": [],
   "source": [
    "def export_kgs_spec(dataset):\n",
    "    path = \"representations/\"+dataset+\"/\"\n",
    "    for split in [\"train\", \"dev\", \"test\"]:\n",
    "        for kg in [\"complex\", \"transe\", \"quate\", \"simple\", \"rotate\", \"distmult\"]:\n",
    "            path_tmp = path + split + \"/\" + kg + \"_entity.csv\"\n",
    "            tmp_kg = prep_kgs2(kg, split)\n",
    "            tmp_kg = np.array((tmp_kg))\n",
    "            np.savetxt(path_tmp, tmp_kg, delimiter=\",\")\n",
    "        "
   ]
  },
  {
   "cell_type": "code",
   "execution_count": 7,
   "id": "pregnant-thanks",
   "metadata": {},
   "outputs": [],
   "source": [
    "def export_LM(dataset):\n",
    "    texts = {}\n",
    "    ys = {}\n",
    "    path = \"representations/\"+dataset+\"/\"\n",
    "    for thing in [\"train\", \"dev\", \"test\"]:\n",
    "        path_in = \"data/final/\"+dataset+\"/\"+thing+'.csv'\n",
    "        df = pd.read_csv(path_in, encoding='utf-8')\n",
    "        texts[thing] = df.text_a.to_list()\n",
    "        #ys[thing] = df.label.to_list()\n",
    "        staticstical = statistical_features.fit_space(texts[thing])\n",
    "        kg = 'stat'\n",
    "        path_tmp = path + thing + \"/\" + kg + \".csv\"\n",
    "        np.savetxt(path_tmp, staticstical, delimiter=\",\")\n",
    "        \n",
    "        bertz = embedd_bert2(texts[thing], st_models[0])\n",
    "        kg = st_models[0]\n",
    "        path_tmp = path + thing + \"/\" + kg + \".csv\"\n",
    "        np.savetxt(path_tmp, bertz, delimiter=\",\")\n",
    "        \n",
    "        bertz2 = embedd_bert2(texts[thing], st_models[1]) \n",
    "        kg = st_models[1]\n",
    "        path_tmp = path + thing + \"/\" + kg + \".csv\"\n",
    "        np.savetxt(path_tmp, bertz2, delimiter=\",\")\n",
    "         \n",
    "        bertz3 = embedd_bert2(texts[thing], st_models[2]) \n",
    "        kg = st_models[2]\n",
    "        path_tmp = path + thing + \"/\" + kg + \".csv\"\n",
    "        np.savetxt(path_tmp, bertz3, delimiter=\",\")       "
   ]
  },
  {
   "cell_type": "code",
   "execution_count": 25,
   "id": "frank-acting",
   "metadata": {},
   "outputs": [
    {
     "name": "stderr",
     "output_type": "stream",
     "text": [
      "100%|██████████| 5/5 [00:01<00:00,  3.47it/s]\n"
     ]
    }
   ],
   "source": [
    "for dataset in tqdm([\"pan2020\", \"AAAI2021_COVID19_fake_news\", \"LIAR_PANTS\", \"ISOT\", \"FakeNewsNet\"]):\n",
    "    path = \"representations/\"+dataset+\"/\"\n",
    "    for thing in [\"train\", \"dev\", \"test\"]:\n",
    "        path_in = \"data/final/\"+dataset+\"/\"+thing+'.csv'\n",
    "        df = pd.read_csv(path_in, encoding='utf-8')\n",
    "        if dataset == \"pan2020\":\n",
    "            ys = df.labels.to_list()\n",
    "        else:\n",
    "            ys = df.label.to_list()            \n",
    "        path_tmp = path + thing + \"/\" + \"_ys.csv\"\n",
    "        np.savetxt(path_tmp, ys, delimiter=\",\")"
   ]
  },
  {
   "cell_type": "code",
   "execution_count": 12,
   "id": "exact-investing",
   "metadata": {},
   "outputs": [],
   "source": [
    "def prep_kgs2(kg_emb, split='train'):\n",
    "    embs = []\n",
    "    global dataset\n",
    "    path_in = \"kg_emb_dump/\"+dataset+\"/\"+split+\"_\"+kg_emb+'_speakers.pkl'\n",
    "    with open(path_in, \"rb\") as f:\n",
    "        kgs_p = pickle.load(f)\n",
    "    for x,y in kgs_p:\n",
    "        embs.append(y)\n",
    "    return embs"
   ]
  },
  {
   "cell_type": "code",
   "execution_count": 13,
   "id": "oriented-transfer",
   "metadata": {},
   "outputs": [
    {
     "name": "stderr",
     "output_type": "stream",
     "text": [
      "100%|██████████| 2/2 [01:11<00:00, 35.73s/it]\n"
     ]
    }
   ],
   "source": [
    "from tqdm import tqdm\n",
    "for dataset in tqdm([\"LIAR_PANTS\", \"FakeNewsNet\"]):\n",
    "    export_kgs_spec(dataset)"
   ]
  },
  {
   "cell_type": "code",
   "execution_count": 20,
   "id": "opposite-sudan",
   "metadata": {},
   "outputs": [
    {
     "name": "stderr",
     "output_type": "stream",
     "text": [
      "100%|██████████| 5/5 [04:07<00:00, 49.49s/it]\n"
     ]
    }
   ],
   "source": [
    "for dataset in tqdm([\"pan2020\", \"AAAI2021_COVID19_fake_news\", \"LIAR_PANTS\", \"ISOT\", \"FakeNewsNet\"]):\n",
    "    export_kgs(dataset)"
   ]
  },
  {
   "cell_type": "code",
   "execution_count": null,
   "id": "rising-vertex",
   "metadata": {},
   "outputs": [
    {
     "name": "stderr",
     "output_type": "stream",
     "text": [
      "  0%|          | 0/2 [00:00<?, ?it/s]18-Mar-21 21:26:43 - Load pretrained SentenceTransformer: roberta-large-nli-stsb-mean-tokens\n",
      "18-Mar-21 21:26:43 - Did not find folder roberta-large-nli-stsb-mean-tokens\n",
      "18-Mar-21 21:26:43 - Try to download model from server: https://sbert.net/models/roberta-large-nli-stsb-mean-tokens.zip\n",
      "18-Mar-21 21:26:43 - Load SentenceTransformer from folder: /home/boshkok/.cache/torch/sentence_transformers/sbert.net_models_roberta-large-nli-stsb-mean-tokens\n",
      "18-Mar-21 21:26:48 - Use pytorch device: cuda\n"
     ]
    },
    {
     "data": {
      "application/vnd.jupyter.widget-view+json": {
       "model_id": "5477587007b543acbf93f55f24799d71",
       "version_major": 2,
       "version_minor": 0
      },
      "text/plain": [
       "HBox(children=(FloatProgress(value=0.0, description='Batches', max=917.0, style=ProgressStyle(description_widt…"
      ]
     },
     "metadata": {},
     "output_type": "display_data"
    }
   ],
   "source": [
    "from tqdm import tqdm\n",
    "for dataset in tqdm([\"ISOT\", \"pan2020\"]):#)\"\"LIAR_PANTS\",\"pan2020\", \"ISOT\", \"AAAI2021_COVID19_fake_news\", \"FakeNewsNet\"]):\n",
    "    export_LM(dataset)"
   ]
  }
 ],
 "metadata": {
  "kernelspec": {
   "display_name": "Python 3",
   "language": "python",
   "name": "python3"
  },
  "language_info": {
   "codemirror_mode": {
    "name": "ipython",
    "version": 3
   },
   "file_extension": ".py",
   "mimetype": "text/x-python",
   "name": "python",
   "nbconvert_exporter": "python",
   "pygments_lexer": "ipython3",
   "version": "3.7.7"
  }
 },
 "nbformat": 4,
 "nbformat_minor": 5
}
